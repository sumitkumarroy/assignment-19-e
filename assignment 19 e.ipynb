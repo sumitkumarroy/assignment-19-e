{
 "cells": [
  {
   "cell_type": "code",
   "execution_count": 4,
   "id": "f3f7ff5d-ad97-46b3-8e7d-63da47855325",
   "metadata": {},
   "outputs": [
    {
     "data": {
      "text/plain": [
       "'Data encoding is the process of converting categorical data into a numerical format that machine learning algorithms can process. This is crucial \\nbecause most algorithms require numerical input to perform computations. Encoding helps in representing categorical variables as numbers, which can \\nthen be used to train models. For instance, converting text labels into integers or binary vectors allows algorithms to interpret and use the data \\neffectively.'"
      ]
     },
     "execution_count": 4,
     "metadata": {},
     "output_type": "execute_result"
    }
   ],
   "source": [
    "#Q1\n",
    "'''Data encoding is the process of converting categorical data into a numerical format that machine learning algorithms can process. This is crucial \n",
    "because most algorithms require numerical input to perform computations. Encoding helps in representing categorical variables as numbers, which can \n",
    "then be used to train models. For instance, converting text labels into integers or binary vectors allows algorithms to interpret and use the data \n",
    "effectively.'''"
   ]
  },
  {
   "cell_type": "code",
   "execution_count": 5,
   "id": "ca440e5e-52c0-406c-bc2e-bb6988912d96",
   "metadata": {},
   "outputs": [
    {
     "data": {
      "text/plain": [
       "\"Nominal encoding, also known as label encoding, assigns a unique integer to each category of a categorical feature. For example, in a dataset \\ncontaining animal species (e.g., cat, dog, bird), nominal encoding might map 'cat' to 0, 'dog' to 1, and 'bird' to 2. This technique is useful for \\nalgorithms that can handle integer values directly, like tree-based models, and avoids increasing the dimensionality of the dataset.\""
      ]
     },
     "execution_count": 5,
     "metadata": {},
     "output_type": "execute_result"
    }
   ],
   "source": [
    "#Q2\n",
    "'''Nominal encoding, also known as label encoding, assigns a unique integer to each category of a categorical feature. For example, in a dataset \n",
    "containing animal species (e.g., cat, dog, bird), nominal encoding might map 'cat' to 0, 'dog' to 1, and 'bird' to 2. This technique is useful for \n",
    "algorithms that can handle integer values directly, like tree-based models, and avoids increasing the dimensionality of the dataset.'''"
   ]
  },
  {
   "cell_type": "code",
   "execution_count": 6,
   "id": "17f561d1-eca0-4ad6-87ea-00a2876ced4b",
   "metadata": {},
   "outputs": [
    {
     "data": {
      "text/plain": [
       "\"Nominal encoding is preferred when dealing with categorical variables that have a natural ordinal relationship or when the number of categories is\\nlarge. For instance, in a model predicting customer satisfaction with categories like 'Very Unsatisfied', 'Unsatisfied', 'Neutral', 'Satisfied', and \\n'Very Satisfied', nominal encoding is suitable because the categories have an inherent order. It’s more efficient than one-hot encoding in this case, \\nwhich would otherwise create many binary features.\""
      ]
     },
     "execution_count": 6,
     "metadata": {},
     "output_type": "execute_result"
    }
   ],
   "source": [
    "#Q3\n",
    "'''Nominal encoding is preferred when dealing with categorical variables that have a natural ordinal relationship or when the number of categories is\n",
    "large. For instance, in a model predicting customer satisfaction with categories like 'Very Unsatisfied', 'Unsatisfied', 'Neutral', 'Satisfied', and \n",
    "'Very Satisfied', nominal encoding is suitable because the categories have an inherent order. It’s more efficient than one-hot encoding in this case, \n",
    "which would otherwise create many binary features.'''"
   ]
  },
  {
   "cell_type": "code",
   "execution_count": 7,
   "id": "3e0f0018-94f6-4120-b898-bccc2d93553b",
   "metadata": {},
   "outputs": [
    {
     "data": {
      "text/plain": [
       "'For categorical data with 5 unique values, you might use either nominal encoding or one-hot encoding depending on the context. If the categorical\\nvariable has no intrinsic order and the number of categories is not large, one-hot encoding is preferred. This approach avoids introducing any ordinal \\nrelationships that don’t exist. It creates 5 new binary features, one for each category, and is well-suited for algorithms like linear regression or \\nneural networks.'"
      ]
     },
     "execution_count": 7,
     "metadata": {},
     "output_type": "execute_result"
    }
   ],
   "source": [
    "#Q4\n",
    "'''For categorical data with 5 unique values, you might use either nominal encoding or one-hot encoding depending on the context. If the categorical\n",
    "variable has no intrinsic order and the number of categories is not large, one-hot encoding is preferred. This approach avoids introducing any ordinal \n",
    "relationships that don’t exist. It creates 5 new binary features, one for each category, and is well-suited for algorithms like linear regression or \n",
    "neural networks.'''"
   ]
  },
  {
   "cell_type": "code",
   "execution_count": 8,
   "id": "3cadfbcc-5d30-4805-a32a-35f7871f3003",
   "metadata": {},
   "outputs": [
    {
     "data": {
      "text/plain": [
       "'Nominal encoding creates one new column for each categorical feature, mapping each category to a unique integer. If you have two categorical columns\\nwith, say, 4 and 5 unique values respectively, nominal encoding would create 2 new columns (one for each categorical feature). The total number of \\ncolumns after encoding would be the original 5 columns plus 2 new columns, resulting in 7 columns in total.'"
      ]
     },
     "execution_count": 8,
     "metadata": {},
     "output_type": "execute_result"
    }
   ],
   "source": [
    "#Q5\n",
    "'''Nominal encoding creates one new column for each categorical feature, mapping each category to a unique integer. If you have two categorical columns\n",
    "with, say, 4 and 5 unique values respectively, nominal encoding would create 2 new columns (one for each categorical feature). The total number of \n",
    "columns after encoding would be the original 5 columns plus 2 new columns, resulting in 7 columns in total.'''"
   ]
  },
  {
   "cell_type": "code",
   "execution_count": 9,
   "id": "d22968fd-5e2f-4ba8-be25-a92ea16ae888",
   "metadata": {},
   "outputs": [
    {
     "data": {
      "text/plain": [
       "'For transforming categorical data like species, habitat, and diet into a format suitable for machine learning, one-hot encoding is typically used.\\nThis technique creates binary columns for each category, ensuring no ordinal assumptions are made. It is particularly useful if the categorical \\nvariables are non-ordinal and the number of categories is manageable, preventing any unintended ordinal relationships and allowing algorithms to treat \\neach category independently.'"
      ]
     },
     "execution_count": 9,
     "metadata": {},
     "output_type": "execute_result"
    }
   ],
   "source": [
    "#Q6\n",
    "'''For transforming categorical data like species, habitat, and diet into a format suitable for machine learning, one-hot encoding is typically used.\n",
    "This technique creates binary columns for each category, ensuring no ordinal assumptions are made. It is particularly useful if the categorical \n",
    "variables are non-ordinal and the number of categories is manageable, preventing any unintended ordinal relationships and allowing algorithms to treat \n",
    "each category independently.'''"
   ]
  },
  {
   "cell_type": "code",
   "execution_count": 10,
   "id": "56e81249-1f28-4a41-ac03-a1999eee8d6c",
   "metadata": {},
   "outputs": [
    {
     "data": {
      "text/plain": [
       "\"For the dataset with gender, contract type, and possibly other categorical features:\\n\\nGender: Use nominal encoding (or binary encoding if you prefer) to convert 'Male' and 'Female' into 0 and 1.\\nContract Type: Use one-hot encoding to convert categories like 'Month-to-Month', 'One-Year', 'Two-Year' into binary columns, one for each contract type.\\nAge, Monthly Charges, Tenure: These are numerical features and can be used directly\""
      ]
     },
     "execution_count": 10,
     "metadata": {},
     "output_type": "execute_result"
    }
   ],
   "source": [
    "#Q7\n",
    "'''For the dataset with gender, contract type, and possibly other categorical features:\n",
    "\n",
    "Gender: Use nominal encoding (or binary encoding if you prefer) to convert 'Male' and 'Female' into 0 and 1.\n",
    "Contract Type: Use one-hot encoding to convert categories like 'Month-to-Month', 'One-Year', 'Two-Year' into binary columns, one for each contract type.\n",
    "Age, Monthly Charges, Tenure: These are numerical features and can be used directly'''"
   ]
  },
  {
   "cell_type": "code",
   "execution_count": null,
   "id": "09c85076-c90a-4cbe-9302-36d57a8415c4",
   "metadata": {},
   "outputs": [],
   "source": []
  },
  {
   "cell_type": "code",
   "execution_count": null,
   "id": "63edeef7-78e5-4150-bab6-df37fd119bdc",
   "metadata": {},
   "outputs": [],
   "source": []
  }
 ],
 "metadata": {
  "kernelspec": {
   "display_name": "Python 3 (ipykernel)",
   "language": "python",
   "name": "python3"
  },
  "language_info": {
   "codemirror_mode": {
    "name": "ipython",
    "version": 3
   },
   "file_extension": ".py",
   "mimetype": "text/x-python",
   "name": "python",
   "nbconvert_exporter": "python",
   "pygments_lexer": "ipython3",
   "version": "3.12.4"
  }
 },
 "nbformat": 4,
 "nbformat_minor": 5
}
